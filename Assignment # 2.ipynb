{
 "cells": [
  {
   "cell_type": "code",
   "execution_count": 1,
   "metadata": {},
   "outputs": [
    {
     "name": "stdout",
     "output_type": "stream",
     "text": [
      "Please Enter sub1 Marks = :92\n",
      "Please Enter sub2 Marks = :86\n",
      "Please Enter sub3 Marks = :73\n",
      "Please Enter sub4 Marks = :80\n",
      "Please Enter sub5 Marks = :69\n",
      "Your Grade is B+\n"
     ]
    }
   ],
   "source": [
    "    #Assignment-2\n",
    "    #Question 1\n",
    "    \n",
    "    mark1 = int(input(\"Please Enter sub1 Marks = :\"));\n",
    "    mark2 = int(input(\"Please Enter sub2 Marks = :\"));\n",
    "    mark3 = int(input(\"Please Enter sub3 Marks = :\"));\n",
    "    mark4 = int(input(\"Please Enter sub4 Marks = :\"));\n",
    "    mark5 = int(input(\"Please Enter sub5 Marks = :\"));\n",
    "    sum = mark1 + mark2 + mark3 + mark4 + mark5;\n",
    "    average = sum/5;\n",
    "    if(average>=91 and average<=100):\n",
    "     print(\"Your Grade is A+\");\n",
    "    elif(average>=81 and average<=90):\n",
    "     print(\"Your Grade is A\");\n",
    "    elif(average>=71 and average<=80):\n",
    "     print(\"Your Grade is B+\");\n",
    "    elif(average>=61 and average<=70):\n",
    "     print(\"Your Grade is B\");\n",
    "    elif(average>=51 and average<=60):\n",
    "     print(\"Your Grade is C+\");\n",
    "    elif(average>=41 and average<=50):\n",
    "     print(\"Your Grade is C\");\n",
    "    elif(average>=0 and average<=40):\n",
    "     print(\"Your Grade is F\");\n",
    "    else:\n",
    "     print(\"Strange Grade..!!\");"
   ]
  },
  {
   "cell_type": "code",
   "execution_count": 2,
   "metadata": {},
   "outputs": [
    {
     "name": "stdout",
     "output_type": "stream",
     "text": [
      "Enter a number: 7\n",
      "This is an odd number\n"
     ]
    }
   ],
   "source": [
    "# Question 2\n",
    "\n",
    "num = int(input(\"Enter a number: \"))\n",
    "mod = num % 2\n",
    "if mod > 0:\n",
    " print(\"This is an odd number\")\n",
    "else:\n",
    "  print(\"This is an even number.\")"
   ]
  },
  {
   "cell_type": "code",
   "execution_count": 3,
   "metadata": {},
   "outputs": [
    {
     "name": "stdout",
     "output_type": "stream",
     "text": [
      "11\n"
     ]
    }
   ],
   "source": [
    "# Question 3\n",
    "\n",
    "List=[1,2,3,4,5,8,0,30,250,15,10]\n",
    "length_of_list = len(List)\n",
    "print (length_of_list)"
   ]
  },
  {
   "cell_type": "code",
   "execution_count": 4,
   "metadata": {},
   "outputs": [
    {
     "name": "stdout",
     "output_type": "stream",
     "text": [
      "25\n"
     ]
    }
   ],
   "source": [
    "# Question 4\n",
    "\n",
    "def sum_list(items):\n",
    "    sum_numbers = 0\n",
    "    for x in items:\n",
    "        sum_numbers += x\n",
    "    return sum_numbers\n",
    "print(sum_list([2,4,5,6,8]))"
   ]
  },
  {
   "cell_type": "code",
   "execution_count": 6,
   "metadata": {},
   "outputs": [
    {
     "name": "stdout",
     "output_type": "stream",
     "text": [
      "Largest element is: 220\n"
     ]
    }
   ],
   "source": [
    "# Question 5\n",
    "\n",
    "list1 = [10, 30, 14, 45, 79,220] \n",
    "\n",
    "print(\"Largest element is:\", max(list1)) "
   ]
  },
  {
   "cell_type": "code",
   "execution_count": 7,
   "metadata": {},
   "outputs": [
    {
     "name": "stdout",
     "output_type": "stream",
     "text": [
      "1\n",
      "1\n",
      "2\n",
      "3\n"
     ]
    }
   ],
   "source": [
    "# Question 6\n",
    "\n",
    "a = [1,1,2,3,5,6,13,21,34,55,89]\n",
    "\n",
    "def print_less_than_five():\n",
    " for i in range(len(a)):\n",
    "\n",
    "    if a[i]<5: \n",
    "            print(a[i]) \n",
    "print_less_than_five()"
   ]
  },
  {
   "cell_type": "code",
   "execution_count": null,
   "metadata": {},
   "outputs": [],
   "source": []
  }
 ],
 "metadata": {
  "kernelspec": {
   "display_name": "Python 3",
   "language": "python",
   "name": "python3"
  },
  "language_info": {
   "codemirror_mode": {
    "name": "ipython",
    "version": 3
   },
   "file_extension": ".py",
   "mimetype": "text/x-python",
   "name": "python",
   "nbconvert_exporter": "python",
   "pygments_lexer": "ipython3",
   "version": "3.7.4"
  }
 },
 "nbformat": 4,
 "nbformat_minor": 2
}
