{
 "cells": [
  {
   "cell_type": "code",
   "execution_count": 19,
   "metadata": {},
   "outputs": [
    {
     "name": "stdout",
     "output_type": "stream",
     "text": [
      "Please select operation: \n",
      " 1. Add \n",
      " 2. Subtract \n",
      " 3. Multiply \n",
      " 4. Divide \n",
      " 5. Power \n",
      "  \n",
      "Select operations form 1, 2, 3, 4, 5 :3\n",
      "Enter first number: 3\n",
      "Enter second number: 6\n",
      "3 * 6 = 18\n"
     ]
    }
   ],
   "source": [
    "#Question 1.\n",
    "# Make a calculator using Python with addition , subtraction , multiplication , division and power.\n",
    "\n",
    "print(\"Please select operation: \\n 1. Add \\n 2. Subtract \\n 3. Multiply \\n 4. Divide \\n 5. Power \\n  \")\n",
    "\n",
    "select = input(\"Select operations form 1, 2, 3, 4, 5 :\")\n",
    "number_1 = int(input(\"Enter first number: \"))\n",
    "number_2 = int(input(\"Enter second number: \"))\n",
    " \n",
    "if select == '1':\n",
    "   result = number_1 + number_2\n",
    "   print(number_1, \"+\", number_2, \"=\", result)\n",
    " \n",
    "elif select == '2':\n",
    "   result = number_1 - number_2\n",
    "   print(number_1, \"-\", number_2, \"=\",result)\n",
    " \n",
    "elif select == '3':\n",
    "   result = number_1 * number_2\n",
    "   print(number_1, \"*\", number_2, \"=\",result)\n",
    " \n",
    "elif select == '4':\n",
    "   result = number_1 / number_2\n",
    "   print(number_1, \"/\", number_2, \"=\",result)\n",
    "\n",
    "\n",
    "elif select == '5':\n",
    "   result = number_1 ** number_2\n",
    "   print(number_1, \"^\", number_2, \"=\",result)\n",
    "\n",
    "else:\n",
    "   print(\"Invalid input\")"
   ]
  },
  {
   "cell_type": "code",
   "execution_count": 18,
   "metadata": {},
   "outputs": [
    {
     "name": "stdout",
     "output_type": "stream",
     "text": [
      "It's Numeric Value\n",
      "It's Numeric Value\n",
      "It's A String\n",
      "It's A String\n",
      "It's Numeric Value\n"
     ]
    }
   ],
   "source": [
    "# Question 2.\n",
    "# Write a program to check if there is any numeric value in list using for loop.\n",
    "\n",
    "n = [6, 4, 'Umair' ,'Pakistan',2.1]\n",
    "for num in n :\n",
    "    if type(num) == int or type(num) == float:\n",
    "        print(\"It's Numeric Value\")\n",
    "    else:\n",
    "        print(\"It's A String\")"
   ]
  },
  {
   "cell_type": "code",
   "execution_count": 20,
   "metadata": {},
   "outputs": [
    {
     "name": "stdout",
     "output_type": "stream",
     "text": [
      "Before Addition  {'FirstName': 'Umair', 'LastName': 'Khan'}\n",
      "After  Addition  {'FirstName': 'Umair', 'LastName': 'Khan', 'Address': 'North Karachi'}\n"
     ]
    }
   ],
   "source": [
    "# Question 3.\n",
    "# Write a Python script to add a key to a dictionary.\n",
    "\n",
    "di = {\"FirstName\" : \"Umair\" ,\"LastName\": \"Khan\"}\n",
    "print(\"Before Addition \",di)\n",
    "di[\"Address\"] = \"North Karachi\"\n",
    "print(\"After  Addition \",di)"
   ]
  },
  {
   "cell_type": "code",
   "execution_count": 23,
   "metadata": {},
   "outputs": [
    {
     "name": "stdout",
     "output_type": "stream",
     "text": [
      "41\n"
     ]
    }
   ],
   "source": [
    "# Question 4.\n",
    "# Write a Python program to sum all the numeric items in a dictionary .\n",
    "\n",
    "sum_di = {'num1':16,'num2':-7,'num3':21,'num4':11}\n",
    "print(sum(sum_di.values()))"
   ]
  },
  {
   "cell_type": "code",
   "execution_count": 29,
   "metadata": {},
   "outputs": [
    {
     "name": "stdout",
     "output_type": "stream",
     "text": [
      "Duplicates Are  21\n",
      "Duplicates Are  -40\n"
     ]
    }
   ],
   "source": [
    "# Question 5.\n",
    "# Write a program to identify duplicate values from list.\n",
    "\n",
    "a = [16, 21, -40, 15, 28, 34, 57, 0,11,21,-40]\n",
    "for x in range(0,len(a)):\n",
    "    for y in range(x+1, len(a)):\n",
    "        if (a[x]) == a[y]:\n",
    "            print(\"Duplicates Are \",a[y])"
   ]
  },
  {
   "cell_type": "code",
   "execution_count": 37,
   "metadata": {},
   "outputs": [
    {
     "name": "stdout",
     "output_type": "stream",
     "text": [
      "Key Exist's\n"
     ]
    }
   ],
   "source": [
    "# Question 6.\n",
    "# Write a Python script to check if a given key already exists in a dictionary.\n",
    "\n",
    "a = {\n",
    "    \"fname\":\"Umair\",\n",
    "    \"lname\":\"Khan\",\n",
    "    \"address\":\"North Karachi\",\n",
    "    \"fname\":\"Umair Khan\"\n",
    "} \n",
    "if \"fname\" in a.keys():\n",
    "    print (\"Key Exist's\")\n",
    "else:\n",
    "    print (\"Key Doesn't Exist \")"
   ]
  },
  {
   "cell_type": "code",
   "execution_count": null,
   "metadata": {},
   "outputs": [],
   "source": []
  },
  {
   "cell_type": "code",
   "execution_count": null,
   "metadata": {},
   "outputs": [],
   "source": []
  }
 ],
 "metadata": {
  "kernelspec": {
   "display_name": "Python 3",
   "language": "python",
   "name": "python3"
  },
  "language_info": {
   "codemirror_mode": {
    "name": "ipython",
    "version": 3
   },
   "file_extension": ".py",
   "mimetype": "text/x-python",
   "name": "python",
   "nbconvert_exporter": "python",
   "pygments_lexer": "ipython3",
   "version": "3.7.4"
  }
 },
 "nbformat": 4,
 "nbformat_minor": 2
}
